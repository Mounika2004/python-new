{
  "nbformat": 4,
  "nbformat_minor": 0,
  "metadata": {
    "colab": {
      "name": "Copy of Module 1",
      "provenance": [],
      "collapsed_sections": [],
      "authorship_tag": "ABX9TyMZ+RcBnFphXMwuJqDDHnns",
      "include_colab_link": true
    },
    "kernelspec": {
      "name": "python3",
      "display_name": "Python 3"
    },
    "language_info": {
      "name": "python"
    }
  },
  "cells": [
    {
      "cell_type": "markdown",
      "metadata": {
        "id": "view-in-github",
        "colab_type": "text"
      },
      "source": [
        "<a href=\"https://colab.research.google.com/github/Mounika2004/python-new/blob/Module-1/Copy_of_Module_1.ipynb\" target=\"_parent\"><img src=\"https://colab.research.google.com/assets/colab-badge.svg\" alt=\"Open In Colab\"/></a>"
      ]
    },
    {
      "cell_type": "code",
      "execution_count": null,
      "metadata": {
        "id": "-vOUuBPOdmic"
      },
      "outputs": [],
      "source": [
        "## Accept input from user and store it in variable and print the value"
      ]
    },
    {
      "cell_type": "code",
      "source": [
        "a=90\n",
        "b=60\n",
        "c=int(input())\n",
        "d=int(input())\n",
        "f=a-(b)-(c)-(d)\n",
        "print(f)\n"
      ],
      "metadata": {
        "colab": {
          "base_uri": "https://localhost:8080/"
        },
        "id": "d4mhBgk6d8ly",
        "outputId": "97aa2dff-b428-4c55-d3d1-d36139c3f8e6"
      },
      "execution_count": null,
      "outputs": [
        {
          "output_type": "stream",
          "name": "stdout",
          "text": [
            "67\n",
            "76\n",
            "-113\n"
          ]
        }
      ]
    },
    {
      "cell_type": "code",
      "source": [
        "## Take 2 numbers as user input and add, multiply, divide, subtract, remainder and print the output (same operations on floating point input as well)"
      ],
      "metadata": {
        "id": "7VOxGOxWfHfH"
      },
      "execution_count": null,
      "outputs": []
    },
    {
      "cell_type": "code",
      "source": [
        "a=int(input(\"enter the first number\"))\n",
        "b=int(input(\"enter the second number\"))\n",
        "c=a+b\n",
        "print(c)\n",
        "c=a-b\n",
        "print(c)\n",
        "c=a*b\n",
        "print(c)\n",
        "c=a/b\n",
        "print(c)"
      ],
      "metadata": {
        "colab": {
          "base_uri": "https://localhost:8080/"
        },
        "id": "01hvFX0KfmSX",
        "outputId": "3185536a-31ea-4ddb-9066-34aaa2022f3c"
      },
      "execution_count": null,
      "outputs": [
        {
          "output_type": "stream",
          "name": "stdout",
          "text": [
            "enter the first number64\n",
            "enter the second number45\n",
            "109\n",
            "19\n",
            "2880\n",
            "1.4222222222222223\n"
          ]
        }
      ]
    },
    {
      "cell_type": "code",
      "source": [
        "## printing of five subject marks and grades"
      ],
      "metadata": {
        "id": "Pswj__gDgVh3"
      },
      "execution_count": null,
      "outputs": []
    },
    {
      "cell_type": "code",
      "source": [
        "sub1=int(input(\"Enter marks of the first subject: \"))\n",
        "sub2=int(input(\"Enter marks of the second subject: \"))\n",
        "sub3=int(input(\"Enter marks of the third subject: \"))\n",
        "sub4=int(input(\"Enter marks of the fourth subject: \"))\n",
        "sub5=int(input(\"Enter marks of the fifth subject: \"))\n",
        "avg=(sub1+sub2+sub3+sub4+sub5)/5\n",
        "if(avg>=90):\n",
        "    print(\"Grade: A\")\n",
        "elif(avg>=80 and avg<90):\n",
        "    print(\"Grade: B\")\n",
        "elif(avg>=70 and avg<80):\n",
        "    print(\"Grade: C\")\n",
        "elif(avg>=60 and avg<70):\n",
        "    print(\"Grade: D\")\n",
        "else:\n",
        "    print(\"Grade: F\")"
      ],
      "metadata": {
        "colab": {
          "base_uri": "https://localhost:8080/"
        },
        "id": "JuNHlulOiIjh",
        "outputId": "0328aa32-bed3-41bf-cade-ac44ceca7533"
      },
      "execution_count": null,
      "outputs": [
        {
          "output_type": "stream",
          "name": "stdout",
          "text": [
            "Enter marks of the first subject: 65\n",
            "Enter marks of the second subject: 45\n",
            "Enter marks of the third subject: 43\n",
            "Enter marks of the fourth subject: 78\n",
            "Enter marks of the fifth subject: 98\n",
            "Grade: D\n"
          ]
        }
      ]
    },
    {
      "cell_type": "code",
      "source": [
        "## eeven or odd"
      ],
      "metadata": {
        "id": "K3wiWbf5pEXG"
      },
      "execution_count": null,
      "outputs": []
    },
    {
      "cell_type": "code",
      "source": [
        "for i in range(4,50,2):\n",
        "    print(i)"
      ],
      "metadata": {
        "colab": {
          "base_uri": "https://localhost:8080/"
        },
        "id": "LzQ86ewRpIuv",
        "outputId": "103fb067-be02-4ba2-83e3-f917bae820db"
      },
      "execution_count": null,
      "outputs": [
        {
          "output_type": "stream",
          "name": "stdout",
          "text": [
            "4\n",
            "6\n",
            "8\n",
            "10\n",
            "12\n",
            "14\n",
            "16\n",
            "18\n",
            "20\n",
            "22\n",
            "24\n",
            "26\n",
            "28\n",
            "30\n",
            "32\n",
            "34\n",
            "36\n",
            "38\n",
            "40\n",
            "42\n",
            "44\n",
            "46\n",
            "48\n"
          ]
        }
      ]
    },
    {
      "cell_type": "code",
      "source": [
        "## odd"
      ],
      "metadata": {
        "id": "0l3wpujyp5RK"
      },
      "execution_count": null,
      "outputs": []
    },
    {
      "cell_type": "code",
      "source": [
        "for i in range(3,70,2):\n",
        "    print(i)"
      ],
      "metadata": {
        "colab": {
          "base_uri": "https://localhost:8080/"
        },
        "id": "vQRu5KMBqWF1",
        "outputId": "0dbf167a-3627-4112-a30e-36cd6a7ff806"
      },
      "execution_count": null,
      "outputs": [
        {
          "output_type": "stream",
          "name": "stdout",
          "text": [
            "3\n",
            "5\n",
            "7\n",
            "9\n",
            "11\n",
            "13\n",
            "15\n",
            "17\n",
            "19\n",
            "21\n",
            "23\n",
            "25\n",
            "27\n",
            "29\n",
            "31\n",
            "33\n",
            "35\n",
            "37\n",
            "39\n",
            "41\n",
            "43\n",
            "45\n",
            "47\n",
            "49\n",
            "51\n",
            "53\n",
            "55\n",
            "57\n",
            "59\n",
            "61\n",
            "63\n",
            "65\n",
            "67\n",
            "69\n"
          ]
        }
      ]
    },
    {
      "cell_type": "code",
      "source": [
        "## accept input from user and store it in varaible and print the value"
      ],
      "metadata": {
        "id": "lRcYM6tU9K-p"
      },
      "execution_count": null,
      "outputs": []
    },
    {
      "cell_type": "code",
      "source": [
        "price=150\n",
        "quantity=3\n",
        "item=1\n",
        "name=\"Thumbsup\"\n",
        "myorder=\"I bought {3} with {0} having {1} and purchased {2}\"\n",
        "print(myorder.format(price,quantity,item,name))"
      ],
      "metadata": {
        "colab": {
          "base_uri": "https://localhost:8080/"
        },
        "id": "UTSmq5eP9abN",
        "outputId": "1fc8541e-3d18-47b2-b06f-39bbd4c69f21"
      },
      "execution_count": null,
      "outputs": [
        {
          "output_type": "stream",
          "name": "stdout",
          "text": [
            "I bought Thumbsup with 150 having 3 and purchased 1\n"
          ]
        }
      ]
    },
    {
      "cell_type": "code",
      "source": [
        "## import builtins"
      ],
      "metadata": {
        "id": "8y6GMqqE-HJo"
      },
      "execution_count": null,
      "outputs": []
    },
    {
      "cell_type": "code",
      "source": [
        "## take 2 numbers as user input and add,multiply,divide,substract,and print the output using float"
      ],
      "metadata": {
        "id": "omepCHj_-SH1"
      },
      "execution_count": null,
      "outputs": []
    },
    {
      "cell_type": "code",
      "source": [
        "import builtins\n",
        "a=float(input(\"Enter the value\"))\n",
        "b=float(input(\"Enter the value\"))\n",
        "add=a+b\n",
        "print(add)\n",
        "subtract=a-b\n",
        "print(subtract)\n",
        "multiply=a*b\n",
        "print(multiply)\n",
        "divide=a/b\n",
        "print(divide)\n",
        "rem=a%b\n",
        "print(rem)"
      ],
      "metadata": {
        "colab": {
          "base_uri": "https://localhost:8080/"
        },
        "id": "bIxSKCjt_XY4",
        "outputId": "9010d626-b35b-4f91-f841-82c826fb4a72"
      },
      "execution_count": null,
      "outputs": [
        {
          "output_type": "stream",
          "name": "stdout",
          "text": [
            "Enter the value88\n",
            "Enter the value68\n",
            "156.0\n",
            "20.0\n",
            "5984.0\n",
            "1.2941176470588236\n",
            "20.0\n"
          ]
        }
      ]
    },
    {
      "cell_type": "code",
      "source": [
        "## conversion of one unit to another (such as hours to minutes, miles and km etc)"
      ],
      "metadata": {
        "id": "xAsCm9zlATgE"
      },
      "execution_count": null,
      "outputs": []
    },
    {
      "cell_type": "code",
      "source": [
        "a=float(input(\"Enter hours\"))\n",
        "print(\"minutes are= \",a*60)\n",
        "b=float(input(\"Enter miles\"))\n",
        "print(\"km are= \",b*1.6)"
      ],
      "metadata": {
        "colab": {
          "base_uri": "https://localhost:8080/"
        },
        "id": "fzd4XrVTAt3d",
        "outputId": "6b4878bb-4ba4-450b-9f1d-3b658f19c280"
      },
      "execution_count": null,
      "outputs": [
        {
          "output_type": "stream",
          "name": "stdout",
          "text": [
            "Enter hours5.0\n",
            "minutes are=  300.0\n",
            "Enter miles6.0\n",
            "km are=  9.600000000000001\n"
          ]
        }
      ]
    },
    {
      "cell_type": "code",
      "source": [
        "## check if choice is one of the four options"
      ],
      "metadata": {
        "id": "7zpeeaVnBcS8"
      },
      "execution_count": null,
      "outputs": []
    },
    {
      "cell_type": "code",
      "source": [
        "# Building a mathematical calculator that can perform operations according to user input. Use decision making statement.\n",
        "# This function adds two numbers\n",
        "def add(x, y):\n",
        "    return x + y\n",
        "\n",
        "# This function subtracts two numbers\n",
        "def subtract(x, y):\n",
        "    return x - y\n",
        "\n",
        "# This function multiplies two numbers\n",
        "def multiply(x, y):\n",
        "    return x * y\n",
        "\n",
        "# This function divides two numbers\n",
        "def divide(x, y):\n",
        "    return x / y\n",
        "\n",
        "\n",
        "print(\"Select operation.\")\n",
        "print(\"1.Add\")\n",
        "print(\"2.Subtract\")\n",
        "print(\"3.Multiply\")\n",
        "print(\"4.Divide\")\n",
        "\n",
        "while True:\n",
        "    # take input from the user\n",
        "    choice = input(\"Enter choice(1/2/3/4): \")\n",
        "\n",
        "    # check if choice is one of the four options\n",
        "    if choice in ('1', '2', '3', '4'):\n",
        "        num1 = float(input(\"Enter first number: \"))\n",
        "        num2 = float(input(\"Enter second number: \"))\n",
        "\n",
        "        if choice == '1':\n",
        "            print(num1, \"+\", num2, \"=\", add(num1, num2))\n",
        "\n",
        "        elif choice == '2':\n",
        "            print(num1, \"-\", num2, \"=\", subtract(num1, num2))\n",
        "\n",
        "        elif choice == '3':\n",
        "            print(num1, \"*\", num2, \"=\", multiply(num1, num2))\n",
        "\n",
        "        elif choice == '4':\n",
        "            print(num1, \"/\", num2, \"=\", divide(num1, num2))\n",
        "        \n",
        "        # check if user wants another calculation\n",
        "        # break the while loop if answer is no\n",
        "        next_calculation = input(\"Let's do next calculation? (yes/no): \")\n",
        "        if next_calculation == \"no\":\n",
        "          break\n",
        "    \n",
        "    else:\n",
        "        print(\"Invalid Input\")"
      ],
      "metadata": {
        "colab": {
          "base_uri": "https://localhost:8080/"
        },
        "id": "rvzw3QwcG2xJ",
        "outputId": "9d486085-58d7-44e1-b0c7-97ce727d2098"
      },
      "execution_count": null,
      "outputs": [
        {
          "name": "stdout",
          "output_type": "stream",
          "text": [
            "Select operation.\n",
            "1.Add\n",
            "2.Subtract\n",
            "3.Multiply\n",
            "4.Divide\n",
            "Enter choice(1/2/3/4): 4\n",
            "Enter first number: 67\n",
            "Enter second number: 78\n",
            "67.0 / 78.0 = 0.8589743589743589\n",
            "Let's do next calculation? (yes/no): no\n"
          ]
        }
      ]
    },
    {
      "cell_type": "code",
      "source": [
        "# Usage of mathematical functions in python like math.ceil, floor, fabs, fmod, trunc, pow, sqrt etc.\n",
        "import math\n",
        "my_int=4.5678\n",
        "print(math.ceil(my_int))\n",
        "my_int=4.5678\n",
        "print(math.floor(my_int))\n",
        "my_int=4.5678\n",
        "print(math.fabs(my_int)) \n",
        "print(math.fmod(4.5678, 7.8976))\n",
        "my_int=4.5678\n",
        "print(math.trunc(my_int))\n",
        "print(math.pow(4.5678, 7.8976))\n",
        "my_int=4.5678\n",
        "print(math.sqrt(my_int))"
      ],
      "metadata": {
        "colab": {
          "base_uri": "https://localhost:8080/"
        },
        "id": "7Z1wRD_tH4hN",
        "outputId": "c0f3d41c-7375-4da8-e28c-34ee996ce791"
      },
      "execution_count": null,
      "outputs": [
        {
          "output_type": "stream",
          "name": "stdout",
          "text": [
            "5\n",
            "4\n",
            "4.5678\n",
            "4.5678\n",
            "4\n",
            "162219.3423504213\n",
            "2.1372412124044398\n"
          ]
        }
      ]
    },
    {
      "cell_type": "code",
      "source": [
        "## compute the factorial of a given number"
      ],
      "metadata": {
        "id": "AP6AiUPNJpuL"
      },
      "execution_count": null,
      "outputs": []
    },
    {
      "cell_type": "code",
      "source": [
        "n=int(input(\"enter a number\"))\n",
        "fac=1\n",
        "for i in range(1,n+1):\n",
        "  fac=fac*i\n",
        "\n",
        "  print(fac)"
      ],
      "metadata": {
        "colab": {
          "base_uri": "https://localhost:8080/"
        },
        "id": "xTkPj-ZNJvya",
        "outputId": "00995268-512e-4528-9437-614e17de1a8b"
      },
      "execution_count": null,
      "outputs": [
        {
          "output_type": "stream",
          "name": "stdout",
          "text": [
            "enter a number6\n",
            "1\n",
            "2\n",
            "6\n",
            "24\n",
            "120\n",
            "720\n"
          ]
        }
      ]
    },
    {
      "cell_type": "code",
      "source": [
        "# Compute GCD of two given \n",
        "a=int(input(\"enter a number\"))\n",
        "b=int(input(\"enter a number\"))\n",
        "k=a if a<b else b\n",
        "while True:\n",
        "    if a%k==0 and b%k==0:\n",
        "     break\n",
        "    k -=1\n",
        "print(k)"
      ],
      "metadata": {
        "colab": {
          "base_uri": "https://localhost:8080/"
        },
        "id": "Ap2-vJLg9Z2Q",
        "outputId": "ed9b822a-19e5-422f-807e-dfccc37618a9"
      },
      "execution_count": null,
      "outputs": [
        {
          "output_type": "stream",
          "name": "stdout",
          "text": [
            "enter a number87\n",
            "enter a number89\n",
            "1\n"
          ]
        }
      ]
    },
    {
      "cell_type": "code",
      "source": [
        "# Check whether the given input is palindrome\n",
        "def isPalindrome(s):\n",
        "\treturn s==s[::-1]\n",
        "s=input(\"enter the value\")\n",
        "ans=isPalindrome(s)\n",
        "if ans:\n",
        "\tprint(\"Yes\")\n",
        "else:\n",
        "\tprint(\"No\")"
      ],
      "metadata": {
        "colab": {
          "base_uri": "https://localhost:8080/"
        },
        "id": "KKXbNxK59uVB",
        "outputId": "af7ee9c6-44cd-41d4-e194-b1ecd21f2890"
      },
      "execution_count": null,
      "outputs": [
        {
          "output_type": "stream",
          "name": "stdout",
          "text": [
            "enter the value66\n",
            "Yes\n"
          ]
        }
      ]
    },
    {
      "cell_type": "code",
      "source": [
        "#Check whether the given input is strong number\n",
        "sum=0   \n",
        "num=int(input(\"Enter a number:\"))  \n",
        "temp=num  \n",
        "while(num): \n",
        "    i=1  \n",
        "    fact=1  \n",
        "    rem=num%10  \n",
        "    while(i<=rem):  \n",
        "        fact=fact*i\n",
        "        i=i+1  \n",
        "    sum=sum+fact  \n",
        "    num=num//10  \n",
        "if(sum==temp):  \n",
        "    print(\"Given number is a strong number\")  \n",
        "else:  \n",
        "    print(\"Given number is not a strong number\")"
      ],
      "metadata": {
        "colab": {
          "base_uri": "https://localhost:8080/"
        },
        "id": "oO5uSC2e93UP",
        "outputId": "9b0676f4-218b-420a-ac7e-1468f00e65fa"
      },
      "execution_count": null,
      "outputs": [
        {
          "output_type": "stream",
          "name": "stdout",
          "text": [
            "Enter a number:87\n",
            "Given number is not a strong number\n"
          ]
        }
      ]
    },
    {
      "cell_type": "code",
      "source": [
        "#Compute compound interest using loop for a certain principal and interest amount\n",
        "n=int(input(\"Enter the principle amount:\"))\n",
        "rate=int(input(\"Enter the rate:\"))\n",
        "years=int(input(\"Enter the number of years:\"))\n",
        "for i in range(years):\n",
        "    n=n+((n*rate)/100)\n",
        "print(n)"
      ],
      "metadata": {
        "colab": {
          "base_uri": "https://localhost:8080/"
        },
        "id": "_sd-CD39-Dsh",
        "outputId": "a3f8ce26-94f3-4b2e-dc89-4e0da91f3930"
      },
      "execution_count": null,
      "outputs": [
        {
          "output_type": "stream",
          "name": "stdout",
          "text": [
            "Enter the principle amount:67\n",
            "Enter the rate:89\n",
            "Enter the number of years:4\n",
            "854.9131934699999\n"
          ]
        }
      ]
    }
  ]
}