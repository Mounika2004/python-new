{
  "nbformat": 4,
  "nbformat_minor": 0,
  "metadata": {
    "colab": {
      "name": "Copy of Module 2 Functions 1",
      "provenance": [],
      "collapsed_sections": [],
      "authorship_tag": "ABX9TyNC15vPTrvhqOxvkueJqYSe",
      "include_colab_link": true
    },
    "kernelspec": {
      "name": "python3",
      "display_name": "Python 3"
    },
    "language_info": {
      "name": "python"
    }
  },
  "cells": [
    {
      "cell_type": "markdown",
      "metadata": {
        "id": "view-in-github",
        "colab_type": "text"
      },
      "source": [
        "<a href=\"https://colab.research.google.com/github/Mounika2004/python-new/blob/Module-2/Copy_of_Module_2_Functions_1.ipynb\" target=\"_parent\"><img src=\"https://colab.research.google.com/assets/colab-badge.svg\" alt=\"Open In Colab\"/></a>"
      ]
    },
    {
      "cell_type": "code",
      "execution_count": null,
      "metadata": {
        "id": "HJJUxtnApA7j"
      },
      "outputs": [],
      "source": [
        "## Create a function which accepts two inputs from the user and compute ncr"
      ]
    },
    {
      "cell_type": "code",
      "source": [
        "def nCr(a,b):\n",
        "  return (fact(a)/(fact(b)\n",
        "                 *fact(a-b)))\n",
        "a=int(input(\"\"))\n",
        "b=int(input(\"\"))\n",
        "def fact(a):\n",
        "    res=1\n",
        "    for i in range (2,a+1):\n",
        "      res=res*i\n",
        "    return res\n",
        "print(int(nCr(a,b)))"
      ],
      "metadata": {
        "colab": {
          "base_uri": "https://localhost:8080/"
        },
        "id": "3vasMZdCrfIU",
        "outputId": "a6a2e331-97e7-4404-a95e-fc16699af507"
      },
      "execution_count": null,
      "outputs": [
        {
          "output_type": "stream",
          "name": "stdout",
          "text": [
            "5\n",
            "2\n",
            "10\n"
          ]
        }
      ]
    },
    {
      "cell_type": "code",
      "source": [
        "##Program to print a specified list after removing the 0th, 4th and 5th elements.\n",
        "##Sample List : ['Red', 'Green', 'White', 'Black', 'Pink', 'Yellow']\n",
        "##Expected Output : ['Green', 'White', 'Black']\n",
        "colours=['Red','Green','White','Black','Pink','Yellow']\n",
        "del colours[0]\n",
        "del colours[3]\n",
        "del colours[3]\n",
        "print(colours)"
      ],
      "metadata": {
        "colab": {
          "base_uri": "https://localhost:8080/"
        },
        "id": "B1xG3-WpvxKD",
        "outputId": "c306537d-3980-44b2-badc-5c55eadbc480"
      },
      "execution_count": null,
      "outputs": [
        {
          "output_type": "stream",
          "name": "stdout",
          "text": [
            "['Green', 'White', 'Black']\n"
          ]
        }
      ]
    },
    {
      "cell_type": "code",
      "source": [
        "## Program to get the difference between the two lists.\n"
      ],
      "metadata": {
        "id": "qD4KQqpty_eZ"
      },
      "execution_count": null,
      "outputs": []
    },
    {
      "cell_type": "code",
      "source": [
        "\n",
        "one_list=[5,4,7,7,2,1]\n",
        "other_list=[7,2,8,9,5]\n",
        "x=set(one_list)\n",
        "y=set(other_list)\n",
        "z1=x.difference(y)\n",
        "z2=y.difference(x)\n",
        "print(list(z1))\n",
        "print(list(z2))"
      ],
      "metadata": {
        "colab": {
          "base_uri": "https://localhost:8080/"
        },
        "id": "KIdPDPfMh4qn",
        "outputId": "fa742b8d-19f3-46a1-dcad-0513e524cf98"
      },
      "execution_count": null,
      "outputs": [
        {
          "output_type": "stream",
          "name": "stdout",
          "text": [
            "[1, 4]\n",
            "[8, 9]\n"
          ]
        }
      ]
    },
    {
      "cell_type": "code",
      "source": [
        "## Program to find the second smallest number and second largest number in a list.\n"
      ],
      "metadata": {
        "id": "UfaFdVjbjLiG"
      },
      "execution_count": null,
      "outputs": []
    },
    {
      "cell_type": "code",
      "source": [
        "list1=[5,6,1,8,567,97,54]\n",
        "list2.sort()\n",
        "print(my_list)\n",
        "print(\"the second smallest number in the given list is:\",list1[4])\n",
        "print(\"the second largest number in the given list is:\",list2[len(my_list)-2])"
      ],
      "metadata": {
        "colab": {
          "base_uri": "https://localhost:8080/"
        },
        "id": "zhUgNLGljT39",
        "outputId": "a2951834-0591-4586-8aae-abb29a431172"
      },
      "execution_count": null,
      "outputs": [
        {
          "output_type": "stream",
          "name": "stdout",
          "text": [
            "[1, 5, 6, 8, 54, 97, 567]\n",
            "the second smallest number in the given list is: 54\n",
            "the second largest number in the given list is: 97\n"
          ]
        }
      ]
    },
    {
      "cell_type": "code",
      "source": [
        "## Given list of tuples, remove all the tuples with length K.\n",
        "## Input : test_list = [(4, 5), (4, ), (8, 6, 7), (1, ), (3, 4, 6, 7)], K = 2\n",
        "## Output : [(4, ), (8, 6, 7), (1, ), (3, 4, 6, 7)] "
      ],
      "metadata": {
        "id": "GfAUI145k--V"
      },
      "execution_count": null,
      "outputs": []
    },
    {
      "cell_type": "code",
      "source": [
        "list1  =  [(5,3),(6,),(7,8),(2,),(6,5,7,3)]\n",
        "list2=[]\n",
        "k=2\n",
        "for x in list1:\n",
        "  if len (x) !=k:\n",
        "    list2.append(x)\n",
        "print(\"the filtered list without containing any element of tupple lengh '2' is:\",list2)"
      ],
      "metadata": {
        "colab": {
          "base_uri": "https://localhost:8080/"
        },
        "id": "jTYI7R5Wlv0j",
        "outputId": "43de25e7-adc4-4b14-c312-17956ce9d735"
      },
      "execution_count": null,
      "outputs": [
        {
          "output_type": "stream",
          "name": "stdout",
          "text": [
            "the filtered list without containing any element of tupple lengh '2' is: [(6,), (2,), (6, 5, 7, 3)]\n"
          ]
        }
      ]
    },
    {
      "cell_type": "code",
      "source": [
        "## Given a list of numbers of list, write a Python program to create a list of tuples\n",
        "## having first element as the number and second element as the square of the\n",
        "## number."
      ],
      "metadata": {
        "id": "jbDu71qonFox"
      },
      "execution_count": null,
      "outputs": []
    },
    {
      "cell_type": "code",
      "source": [
        "list1=[6,98,5,43,12]\n",
        "list2=[]\n",
        "for i in list1:\n",
        "   y=(i,i**2)\n",
        "   list2.append(y)\n",
        "print(\"the required list is:\",list2)"
      ],
      "metadata": {
        "colab": {
          "base_uri": "https://localhost:8080/"
        },
        "id": "f-roFqGlnXhd",
        "outputId": "2c1e9f59-569b-4124-cfa5-990598dabe75"
      },
      "execution_count": null,
      "outputs": [
        {
          "output_type": "stream",
          "name": "stdout",
          "text": [
            "the required list is: [(6, 36), (98, 9604), (5, 25), (43, 1849), (12, 144)]\n"
          ]
        }
      ]
    },
    {
      "cell_type": "code",
      "source": [
        "##  Program to generate and print a dictionary that contains a number (between 1\n",
        " ## and n) in the form (x, x*x).\n",
        " ## Sample Input: (n=5) :\n",
        " ## expected Output : {1: 1, 2: 4, 3: 9, 4: 16, 5: 25}"
      ],
      "metadata": {
        "id": "EwruVmZlquvd"
      },
      "execution_count": null,
      "outputs": []
    },
    {
      "cell_type": "code",
      "source": [
        "my_star=dict()\n",
        "x=int(input(\"enter a number: \"))\n",
        "for i in range(1,x+1):\n",
        "  my_star.update({i:i**2})\n",
        "print(\"the obtained set is:\",my_star)"
      ],
      "metadata": {
        "colab": {
          "base_uri": "https://localhost:8080/"
        },
        "id": "86PJgTYYq7kZ",
        "outputId": "9e7634e0-9b2c-4c34-98c5-1422353dfb5c"
      },
      "execution_count": null,
      "outputs": [
        {
          "output_type": "stream",
          "name": "stdout",
          "text": [
            "enter a number: 66\n",
            "the obtained set is: {1: 1, 2: 4, 3: 9, 4: 16, 5: 25, 6: 36, 7: 49, 8: 64, 9: 81, 10: 100, 11: 121, 12: 144, 13: 169, 14: 196, 15: 225, 16: 256, 17: 289, 18: 324, 19: 361, 20: 400, 21: 441, 22: 484, 23: 529, 24: 576, 25: 625, 26: 676, 27: 729, 28: 784, 29: 841, 30: 900, 31: 961, 32: 1024, 33: 1089, 34: 1156, 35: 1225, 36: 1296, 37: 1369, 38: 1444, 39: 1521, 40: 1600, 41: 1681, 42: 1764, 43: 1849, 44: 1936, 45: 2025, 46: 2116, 47: 2209, 48: 2304, 49: 2401, 50: 2500, 51: 2601, 52: 2704, 53: 2809, 54: 2916, 55: 3025, 56: 3136, 57: 3249, 58: 3364, 59: 3481, 60: 3600, 61: 3721, 62: 3844, 63: 3969, 64: 4096, 65: 4225, 66: 4356}\n"
          ]
        }
      ]
    },
    {
      "cell_type": "code",
      "source": [
        "## program to remove a key from a dictionary"
      ],
      "metadata": {
        "id": "YVZa0YF1tvNg"
      },
      "execution_count": null,
      "outputs": []
    },
    {
      "cell_type": "code",
      "source": [
        "phone={\n",
        "    \"brand\" : \"oneplus\",\n",
        "    \"model\" : \"CE Nord\",\n",
        "    \"year\" :  \"2021\",\n",
        "    \"cost\" :  \"250000\",\n",
        " }\n",
        "phone.pop(\"year\")\n",
        "print(phone)\n",
        "del phone[\"cost\"]\n",
        "print(\"phone\")"
      ],
      "metadata": {
        "colab": {
          "base_uri": "https://localhost:8080/"
        },
        "id": "s9DqK-lYt6m6",
        "outputId": "beab48b7-023c-4495-87bd-e071b4c4620f"
      },
      "execution_count": null,
      "outputs": [
        {
          "output_type": "stream",
          "name": "stdout",
          "text": [
            "{'brand': 'oneplus', 'model': 'CE Nord', 'cost': '250000'}\n",
            "phone\n"
          ]
        }
      ]
    },
    {
      "cell_type": "code",
      "source": [
        "##  Program to get the maximum and minimum value in a dictionary.\n"
      ],
      "metadata": {
        "id": "sZlkXxuFwaew"
      },
      "execution_count": null,
      "outputs": []
    },
    {
      "cell_type": "code",
      "source": [
        "my_star={\n",
        "    'm': 78,\n",
        "    'n': 67,\n",
        "    'a': 62,\n",
        "    'p': 45,\n",
        "}\n",
        "max_value=max(my_star,  key=my_star.get)\n",
        "min_value=min(my_star,  key=my_star.get)\n",
        "print(\"The maximum value in the given star has a key:'\"+max_value+\"' and its value is:\",my_star[max_value])\n",
        "print(\"The minimum value in the given star has a key:'\"+min_value+\"' and its value is:\",my_star[min_value])\n"
      ],
      "metadata": {
        "colab": {
          "base_uri": "https://localhost:8080/"
        },
        "id": "CGVWdM7iwxnr",
        "outputId": "f8d9dd70-b971-4f95-8ca9-f22aecbf2e85"
      },
      "execution_count": null,
      "outputs": [
        {
          "output_type": "stream",
          "name": "stdout",
          "text": [
            "The maximum value in the given star has a key:'m' and its value is: 78\n",
            "The minimum value in the given star has a key:'p' and its value is: 45\n"
          ]
        }
      ]
    },
    {
      "cell_type": "code",
      "source": [
        "#Program to perform operations on string using unicodes ,splitting of\n",
        "## string,accessing elements of string using locations"
      ],
      "metadata": {
        "id": "yF8OXDD-2OBk"
      },
      "execution_count": null,
      "outputs": []
    },
    {
      "cell_type": "code",
      "source": [
        "string=input(\"enter a string: \")\n",
        "print(string.split())\n",
        "print(string[2:21])"
      ],
      "metadata": {
        "colab": {
          "base_uri": "https://localhost:8080/"
        },
        "id": "GI2QirIN2gMX",
        "outputId": "12071262-eafc-4868-eb41-439c8738842a"
      },
      "execution_count": null,
      "outputs": [
        {
          "output_type": "stream",
          "name": "stdout",
          "text": [
            "enter a string: my name is Mounika reddy\n",
            "['my', 'name', 'is', 'Mounika', 'reddy']\n",
            " name is Mounika re\n"
          ]
        }
      ]
    },
    {
      "cell_type": "code",
      "source": [
        "#Program for Counting occurrence of a certain element in a string,\n",
        "## getting indexes that have matching elements."
      ],
      "metadata": {
        "id": "t8_HVhe421lk"
      },
      "execution_count": null,
      "outputs": []
    },
    {
      "cell_type": "code",
      "source": [
        "str_1=\"mounika\"\n",
        "print(str_1.count('a'))\n",
        "str_2=\"mounika loves to eat chicken briyani\"\n",
        "print(str_2.count('to'))\n"
      ],
      "metadata": {
        "colab": {
          "base_uri": "https://localhost:8080/"
        },
        "id": "Zc0prvNq3X68",
        "outputId": "bbe00be1-c57e-4b73-d330-94ee8b8d6a1a"
      },
      "execution_count": null,
      "outputs": [
        {
          "output_type": "stream",
          "name": "stdout",
          "text": [
            "1\n",
            "1\n"
          ]
        }
      ]
    },
    {
      "cell_type": "code",
      "source": [
        "#Program for replacing one substring by another For example - Rabbit -\n",
        "## replace 'bb' by 'cc'"
      ],
      "metadata": {
        "id": "6LKy7zsg36zd"
      },
      "execution_count": null,
      "outputs": []
    },
    {
      "cell_type": "code",
      "source": [
        "string1='scrabbled'\n",
        "string2=string1.replace('bb','cc')\n",
        "print(string2)"
      ],
      "metadata": {
        "colab": {
          "base_uri": "https://localhost:8080/"
        },
        "id": "cgINCqIH4CUU",
        "outputId": "426b2e38-8eeb-447a-8995-6da7967b1e55"
      },
      "execution_count": null,
      "outputs": [
        {
          "output_type": "stream",
          "name": "stdout",
          "text": [
            "scraccled\n"
          ]
        }
      ]
    },
    {
      "cell_type": "code",
      "source": [
        "#Python function that accepts a string and calculates the number of\n",
        "## uppercase letters and lowercase letters.\n"
      ],
      "metadata": {
        "id": "eK_XL4px4uHV"
      },
      "execution_count": null,
      "outputs": []
    },
    {
      "cell_type": "code",
      "source": [
        "string=\"I Love my friend very much in my life\"\n",
        "count_1=0\n",
        "count_2=0\n",
        "for i in string:\n",
        " if i.isupper():\n",
        "    count_1+=1\n",
        " elif i.islower():\n",
        "    count_2+=1\n",
        " else:\n",
        "   pass\n",
        "print(\"No.of uppercase alphabets are: \",count_1)\n",
        "print(\"No.of lowercase alphabets are: \",count_2)"
      ],
      "metadata": {
        "colab": {
          "base_uri": "https://localhost:8080/"
        },
        "id": "S78TdsOW43oj",
        "outputId": "4be389f0-dd12-4708-db8e-cd4448548cd6"
      },
      "execution_count": null,
      "outputs": [
        {
          "output_type": "stream",
          "name": "stdout",
          "text": [
            "No.of uppercase alphabets are:  2\n",
            "No.of lowercase alphabets are:  27\n"
          ]
        }
      ]
    },
    {
      "cell_type": "code",
      "source": [
        "#Program to Acronym generator for any user input\n"
      ],
      "metadata": {
        "id": "1-epvXrl5kOb"
      },
      "execution_count": null,
      "outputs": []
    },
    {
      "cell_type": "code",
      "source": [
        "string=input(\"enter some string:\")\n",
        "a=string.split()\n",
        "for i in a:\n",
        " print(i[0],end='')\n"
      ],
      "metadata": {
        "colab": {
          "base_uri": "https://localhost:8080/"
        },
        "id": "djDwerzG5yo_",
        "outputId": "73ce575c-2915-43c0-945d-bc29e72cf6e0"
      },
      "execution_count": null,
      "outputs": [
        {
          "output_type": "stream",
          "name": "stdout",
          "text": [
            "enter some string:mounika reddy\n",
            "mr"
          ]
        }
      ]
    },
    {
      "cell_type": "code",
      "source": [
        "# Program to count the number of strings where the string length is 2\n",
        "## or more and the first and last character are same\n",
        "#from a given list of strings , Sample List : ['abc', 'xyz', 'aba',\n",
        "## '1221'] Expected Result : 2"
      ],
      "metadata": {
        "id": "0Bit-eaz6DNA"
      },
      "execution_count": null,
      "outputs": []
    },
    {
      "cell_type": "code",
      "source": [
        "List = ['abc', 'xyz', 'abhitha',\n",
        "'1221','mounika','24','in','anitha']\n",
        "count=0\n",
        "for i in List:\n",
        " if len(i)>=2:\n",
        "   if i[0]==i[len(i)-1]:\n",
        "    print(i)\n",
        " count+=1\n",
        "print(count)"
      ],
      "metadata": {
        "colab": {
          "base_uri": "https://localhost:8080/"
        },
        "id": "15oVKKVZ6SEA",
        "outputId": "32ff6ab0-6c55-4d57-aca5-8e15c786fb80"
      },
      "execution_count": null,
      "outputs": [
        {
          "output_type": "stream",
          "name": "stdout",
          "text": [
            "abhitha\n",
            "1221\n",
            "anitha\n",
            "8\n"
          ]
        }
      ]
    }
  ]
}